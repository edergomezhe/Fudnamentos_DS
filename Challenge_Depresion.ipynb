{
  "nbformat": 4,
  "nbformat_minor": 0,
  "metadata": {
    "kernelspec": {
      "display_name": "Python 3",
      "language": "python",
      "name": "python3"
    },
    "language_info": {
      "codemirror_mode": {
        "name": "ipython",
        "version": 3
      },
      "file_extension": ".py",
      "mimetype": "text/x-python",
      "name": "python",
      "nbconvert_exporter": "python",
      "pygments_lexer": "ipython3",
      "version": "3.8.5"
    },
    "colab": {
      "name": "Challenge: Depresion.ipynb",
      "provenance": [],
      "collapsed_sections": [],
      "include_colab_link": true
    }
  },
  "cells": [
    {
      "cell_type": "markdown",
      "metadata": {
        "id": "view-in-github",
        "colab_type": "text"
      },
      "source": [
        "<a href=\"https://colab.research.google.com/github/edergomezhe/Fudnamentos_DS/blob/main/Challenge_Depresion.ipynb\" target=\"_parent\"><img src=\"https://colab.research.google.com/assets/colab-badge.svg\" alt=\"Open In Colab\"/></a>"
      ]
    },
    {
      "cell_type": "code",
      "metadata": {
        "id": "6MZg4xEncVi3",
        "colab": {
          "base_uri": "https://localhost:8080/"
        },
        "outputId": "df015583-92bd-4462-af15-b6cad02cbd59"
      },
      "source": [
        "import pandas as pd\n",
        "import numpy as np\n",
        "import statsmodels.api as sm\n",
        "import scipy.stats.distributions as dist\n",
        "import seaborn as sns\n",
        "import scipy.stats as stats\n",
        "from collections import Counter\n",
        "import matplotlib.pyplot as plt"
      ],
      "execution_count": 1,
      "outputs": [
        {
          "output_type": "stream",
          "name": "stderr",
          "text": [
            "/usr/local/lib/python3.7/dist-packages/statsmodels/tools/_testing.py:19: FutureWarning: pandas.util.testing is deprecated. Use the functions in the public API at pandas.testing instead.\n",
            "  import pandas.util.testing as tm\n"
          ]
        }
      ]
    },
    {
      "cell_type": "markdown",
      "metadata": {
        "id": "1BFT2-H-v7BR"
      },
      "source": [
        "# Challenge"
      ]
    },
    {
      "cell_type": "markdown",
      "metadata": {
        "id": "hyGTPniYv7BU"
      },
      "source": [
        "El [Instituto Nacional de Salud Mental](https://www.nimh.nih.gov/) publicó un [artículo](https://www.nimh.nih.gov/health/statistics/major-depression) que indica que en cualquier período de un año, \n",
        "aproximadamente el **9.5 por ciento de los adultos estadounidenses** sufren depresión o una enfermedad depresiva.\n",
        "Supongamos que en una **encuesta de 100 personas en una determinada ciudad**, **siete de ellas** sufrieron depresión \n",
        "o una enfermedad depresiva."
      ]
    },
    {
      "cell_type": "markdown",
      "metadata": {
        "id": "VGgsHw19v7BW"
      },
      "source": [
        "Realice una prueba de hipótesis para determinar si la verdadera **proporción de personas en esa ciudad** \n",
        "que padecen depresión o una enfermedad depresiva **es menor** que el porcentaje de la **población estadounidense** \n",
        "adulta en general."
      ]
    },
    {
      "cell_type": "markdown",
      "metadata": {
        "id": "Cdl6eQyTv7BY"
      },
      "source": [
        "# Resuelve siguiendo los pasos a continuación"
      ]
    },
    {
      "cell_type": "markdown",
      "metadata": {
        "id": "Eq0khrGmv7Ba"
      },
      "source": [
        "## Paso 0:"
      ]
    },
    {
      "cell_type": "markdown",
      "metadata": {
        "id": "H7INoFo-v7Bc"
      },
      "source": [
        "- ¿Es esta una prueba de una media o proporción?\n",
        "\n"
      ]
    },
    {
      "cell_type": "markdown",
      "source": [
        "**Es una prueba de proporción**"
      ],
      "metadata": {
        "id": "C9BUIHPs-7TY"
      }
    },
    {
      "cell_type": "markdown",
      "metadata": {
        "id": "3BxiIh29v7Bd"
      },
      "source": [
        "## Paso 1: Determinar la hipótesis nula y las hipótesis alternativas"
      ]
    },
    {
      "cell_type": "markdown",
      "metadata": {
        "id": "aIcYfBD3v7Bg"
      },
      "source": [
        "- Enuncie las hipótesis nula y alternativa. Hágalo como un enunciado y como una expresión matemática."
      ]
    },
    {
      "cell_type": "markdown",
      "metadata": {
        "id": "aLtNRL-wv7Bh"
      },
      "source": [
        "H0: La proporcion de personas con depresion en la ciudad es mayor a la poblacion estadounidense p_pob > p0\n",
        "\n",
        "H1: La proporcion de personas con depresion en la ciudad es menor a la poblacion estadounidense p_pob < p0"
      ]
    },
    {
      "cell_type": "markdown",
      "metadata": {
        "id": "b8VCPjkjv7Bj"
      },
      "source": [
        "## Paso 2: Calcular la proporción de la población"
      ]
    },
    {
      "cell_type": "code",
      "metadata": {
        "id": "j1-5bEe2v7Bk",
        "colab": {
          "base_uri": "https://localhost:8080/"
        },
        "outputId": "cb9c27e4-30e8-402a-e319-82d3a3e4dc74"
      },
      "source": [
        "#calculo de proporcion de la poblacion que sufrio de depresion o de alguna enfermedad depresiva segun la encuesta\n",
        "p_pob = 7/100\n",
        "\n",
        "#imprimir la proporcion\n",
        "p_pob"
      ],
      "execution_count": 2,
      "outputs": [
        {
          "output_type": "execute_result",
          "data": {
            "text/plain": [
              "0.07"
            ]
          },
          "metadata": {},
          "execution_count": 2
        }
      ]
    },
    {
      "cell_type": "markdown",
      "metadata": {
        "id": "yP_qx1Plv7Bn"
      },
      "source": [
        "## Paso 3: Calculando el test estadístico"
      ]
    },
    {
      "cell_type": "code",
      "metadata": {
        "id": "1PKwbZmhcF9u"
      },
      "source": [
        "#porcentaje aproximado de los adultos estadounidenses sufren depresión o una enfermedad depresiva.\n",
        "p0 = 0.095"
      ],
      "execution_count": 3,
      "outputs": []
    },
    {
      "cell_type": "code",
      "metadata": {
        "id": "H-sVSF5Dv7Bo",
        "colab": {
          "base_uri": "https://localhost:8080/"
        },
        "outputId": "99589980-6c85-4d75-d8db-aad8cd0f10b4"
      },
      "source": [
        "#calcular el error estándar (SE).\n",
        "n = 100\n",
        "\n",
        "se = np.sqrt(p0 * (1 - p0) / n)\n",
        "\n",
        "#Imprimir el valor\n",
        "se"
      ],
      "execution_count": 4,
      "outputs": [
        {
          "output_type": "execute_result",
          "data": {
            "text/plain": [
              "0.0293214938227915"
            ]
          },
          "metadata": {},
          "execution_count": 4
        }
      ]
    },
    {
      "cell_type": "code",
      "metadata": {
        "id": "PosiNjMecAfI",
        "colab": {
          "base_uri": "https://localhost:8080/"
        },
        "outputId": "50a40aa2-5c8a-473e-ee95-1b4c9b5b99e1"
      },
      "source": [
        "#Calculamos la mejor estimación (best estimate - be)\n",
        "be = p_pob\n",
        "\n",
        "# hypothesized estimate\n",
        "he = p0\n",
        "\n",
        "# Calculamos la estadística de prueba (Test Stat)\n",
        "test_stat = (be - he)/se\n",
        "\n",
        "#Imprimir el valor\n",
        "test_stat"
      ],
      "execution_count": 5,
      "outputs": [
        {
          "output_type": "execute_result",
          "data": {
            "text/plain": [
              "-0.8526168602149314"
            ]
          },
          "metadata": {},
          "execution_count": 5
        }
      ]
    },
    {
      "cell_type": "markdown",
      "metadata": {
        "id": "hQiPUx92v7Bp"
      },
      "source": [
        "## Paso 4: Calcule el valor p"
      ]
    },
    {
      "cell_type": "code",
      "metadata": {
        "id": "La_kIDJuv7Bs",
        "colab": {
          "base_uri": "https://localhost:8080/"
        },
        "outputId": "749fcaf7-6ba9-4e2e-ed14-14eef0a627f1"
      },
      "source": [
        "#Calcular el valor p.\n",
        "pvalue = 2*dist.norm.cdf(-np.abs(test_stat))\n",
        "\n",
        "#imprimir el valor\n",
        "pvalue"
      ],
      "execution_count": 6,
      "outputs": [
        {
          "output_type": "execute_result",
          "data": {
            "text/plain": [
              "0.39387180961069246"
            ]
          },
          "metadata": {},
          "execution_count": 6
        }
      ]
    },
    {
      "cell_type": "markdown",
      "metadata": {
        "id": "PJnEX1ADv7Bu"
      },
      "source": [
        "## Paso 5: inferir la conclusión del valor p"
      ]
    },
    {
      "cell_type": "markdown",
      "metadata": {
        "id": "Q0TAF_Tdv7Bv"
      },
      "source": [
        "Si el nivel de significancia es α = 0.05, cuál es tu:"
      ]
    },
    {
      "cell_type": "markdown",
      "metadata": {
        "id": "VTQlRe-4v7Bw"
      },
      "source": [
        "- Decisión: La hipotesis nula no se puede rechazar con suficiente nivel de confiabilidad"
      ]
    },
    {
      "cell_type": "markdown",
      "metadata": {
        "id": "n-jKjxiav7Bx"
      },
      "source": [
        "- Razón de la decisión: El nivel de significancia es de un 39.4% por lo tanto hay una probabilidad del 60.6% de que los resultados no sean aleatorios"
      ]
    },
    {
      "cell_type": "markdown",
      "metadata": {
        "id": "i87DgZ-rv7Bx"
      },
      "source": [
        "- Conclusión (escribir en una oración completa): A pesar de que aparentemente existe un menor porcentaje de personas que sufren enfermedades mentales en esa ciudad, no es posible aseverar contundentemente que la muestra tomada de dicha ciudad tenga la proporcion real de enfermedades mentales en esa ciudad. Por lo tanto no podemos comprobar que la proporcion de enfermedades mentales en esa ciudad sea menor a la proporcion de toda la poblacion estadounidense."
      ]
    },
    {
      "cell_type": "markdown",
      "metadata": {
        "id": "_3BR8gl8v7By"
      },
      "source": [
        "- PREGUNTA BONUS: ¿Es esta una prueba de cola derecha, izquierda o de dos colas?\n",
        "\n",
        "Es una prueba de cola izquierda ya que la hipotesis alternativa tiene el signo < en su enunciado."
      ]
    }
  ]
}